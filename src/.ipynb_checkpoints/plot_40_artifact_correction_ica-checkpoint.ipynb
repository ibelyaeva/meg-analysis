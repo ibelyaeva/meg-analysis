{
 "cells": [
  {
   "cell_type": "code",
   "execution_count": null,
   "metadata": {},
   "outputs": [],
   "source": [
    "%matplotlib inline"
   ]
  },
  {
   "cell_type": "markdown",
   "metadata": {},
   "source": [
    "\n",
    "\n",
    "Repairing artifacts with ICA\n",
    "============================\n",
    "\n",
    "This tutorial covers the basics of independent components analysis (ICA) and\n",
    "shows how ICA can be used for artifact repair; an extended example illustrates\n",
    "repair of ocular and heartbeat artifacts.\n",
    "   :depth: 2\n",
    "\n",
    "We begin as always by importing the necessary Python modules and loading some\n",
    "`example data <sample-dataset>`. Because ICA can be computationally\n",
    "intense, we'll also crop the data to 60 seconds; and to save ourselves from\n",
    "repeatedly typing ``mne.preprocessing`` we'll directly import a few functions\n",
    "and classes from that submodule:\n"
   ]
  },
  {
   "cell_type": "code",
   "execution_count": null,
   "metadata": {},
   "outputs": [],
   "source": [
    "import os\n",
    "import mne\n",
    "from mne.preprocessing import (ICA, create_eog_epochs, create_ecg_epochs,\n",
    "                               corrmap)\n",
    "\n",
    "sample_data_folder = mne.datasets.sample.data_path()\n",
    "sample_data_raw_file = os.path.join(sample_data_folder, 'MEG', 'sample',\n",
    "                                    'sample_audvis_raw.fif')\n",
    "raw = mne.io.read_raw_fif(sample_data_raw_file)\n",
    "raw.crop(tmax=60.)"
   ]
  },
  {
   "cell_type": "markdown",
   "metadata": {},
   "source": [
    "<div class=\"alert alert-info\"><h4>Note</h4><p>Before applying ICA (or any artifact repair strategy), be sure to observe\n",
    "    the artifacts in your data to make sure you choose the right repair tool.\n",
    "    Sometimes the right tool is no tool at all — if the artifacts are small\n",
    "    enough you may not even need to repair them to get good analysis results.\n",
    "    See `tut-artifact-overview` for guidance on detecting and\n",
    "    visualizing various types of artifact.</p></div>\n",
    "\n",
    "What is ICA?\n",
    "^^^^^^^^^^^^\n",
    "\n",
    "Independent components analysis (ICA) is a technique for estimating\n",
    "independent source signals from a set of recordings in which the source\n",
    "signals were mixed together in unknown ratios. A common example of this is\n",
    "the problem of `blind source separation`_: with 3 musical instruments playing\n",
    "in the same room, and 3 microphones recording the performance (each picking\n",
    "up all 3 instruments, but at varying levels), can you somehow \"unmix\" the\n",
    "signals recorded by the 3 microphones so that you end up with a separate\n",
    "\"recording\" isolating the sound of each instrument?\n",
    "\n",
    "It is not hard to see how this analogy applies to EEG/MEG analysis: there are\n",
    "many \"microphones\" (sensor channels) simultaneously recording many\n",
    "\"instruments\" (blinks, heartbeats, activity in different areas of the brain,\n",
    "muscular activity from jaw clenching or swallowing, etc). As long as these\n",
    "various source signals are `statistically independent`_ and non-gaussian, it\n",
    "is usually possible to separate the sources using ICA, and then re-construct\n",
    "the sensor signals after excluding the sources that are unwanted.\n",
    "\n",
    "\n",
    "ICA in MNE-Python\n",
    "~~~~~~~~~~~~~~~~~\n",
    "\n",
    ".. sidebar:: ICA and dimensionality reduction\n",
    "\n",
    "    If you want to perform ICA with *no* dimensionality reduction (other than\n",
    "    the number of Independent Components (ICs) given in ``n_components``, and\n",
    "    any subsequent exclusion of ICs you specify in ``ICA.exclude``), pass\n",
    "    ``max_pca_components=None`` and ``n_pca_components=None`` (these are the\n",
    "    default values).\n",
    "\n",
    "    However, if you *do* want to reduce dimensionality, consider this\n",
    "    example: if you have 300 sensor channels and you set\n",
    "    ``max_pca_components=200``, ``n_components=50`` and\n",
    "    ``n_pca_components=None``, then the PCA step yields 200 PCs, the first 50\n",
    "    PCs are sent to the ICA algorithm (yielding 50 ICs), and during\n",
    "    reconstruction :meth:`~mne.preprocessing.ICA.apply` will use the 50 ICs\n",
    "    plus PCs number 51-200 (the full PCA residual). If instead you specify\n",
    "    ``n_pca_components=120`` then :meth:`~mne.preprocessing.ICA.apply` will\n",
    "    reconstruct using the 50 ICs plus the first 70 PCs in the PCA residual\n",
    "    (numbers 51-120).\n",
    "\n",
    "    **If you have previously been using EEGLAB**'s ``runica()`` and are\n",
    "    looking for the equivalent of its ``'pca', n`` option to reduce\n",
    "    dimensionality via PCA before the ICA step, set ``max_pca_components=n``,\n",
    "    while leaving ``n_components`` and ``n_pca_components`` at their default\n",
    "    (i.e., ``None``).\n",
    "\n",
    "MNE-Python implements three different ICA algorithms: ``fastica`` (the\n",
    "default), ``picard``, and ``infomax``. FastICA and Infomax are both in fairly\n",
    "widespread use; Picard is a newer (2017) algorithm that is expected to\n",
    "converge faster than FastICA and Infomax, and is more robust than other\n",
    "algorithms in cases where the sources are not completely independent, which\n",
    "typically happens with real EEG/MEG data. See [1]_ for more information.\n",
    "\n",
    "The ICA interface in MNE-Python is similar to the interface in\n",
    "`scikit-learn`_: some general parameters are specified when creating an\n",
    ":class:`~mne.preprocessing.ICA` object, then the\n",
    ":class:`~mne.preprocessing.ICA` object is fit to the data using its\n",
    ":meth:`~mne.preprocessing.ICA.fit` method. The results of the fitting are\n",
    "added to the :class:`~mne.preprocessing.ICA` object as attributes that end in\n",
    "an underscore (``_``), such as ``ica.mixing_matrix_`` and\n",
    "``ica.unmixing_matrix_``. After fitting, the ICA component(s) that you want\n",
    "to remove must be chosen, and the ICA fit must then be applied to the\n",
    ":class:`~mne.io.Raw` or :class:`~mne.Epochs` object using the\n",
    ":class:`~mne.preprocessing.ICA` object's :meth:`~mne.preprocessing.ICA.apply`\n",
    "method.\n",
    "\n",
    "As is typically done with ICA, the data are first scaled to unit variance and\n",
    "whitened using principal components analysis (PCA) before performing the ICA\n",
    "decomposition. You can impose an optional dimensionality reduction at this\n",
    "step by specifying ``max_pca_components``. From the retained Principal\n",
    "Components (PCs), the first ``n_components`` are then passed to the ICA\n",
    "algorithm (``n_components`` may be an integer number of components to use, or\n",
    "a fraction of explained variance that used components should capture).\n",
    "\n",
    "After visualizing the Independent Components (ICs) and excluding any that\n",
    "capture artifacts you want to repair, the sensor signal can be reconstructed\n",
    "using the :class:`~mne.preprocessing.ICA` object's\n",
    ":meth:`~mne.preprocessing.ICA.apply` method. By default, signal\n",
    "reconstruction uses all of the ICs (less any ICs listed in ``ICA.exclude``)\n",
    "plus all of the PCs that were not included in the ICA decomposition (i.e.,\n",
    "the \"PCA residual\"). If you want to reduce the number of components used at\n",
    "the reconstruction stage, it is controlled by the ``n_pca_components``\n",
    "parameter (which will in turn reduce the rank of your data; by default\n",
    "``n_pca_components = max_pca_components`` resulting in no additional\n",
    "dimensionality reduction). The fitting and reconstruction procedures and the\n",
    "parameters that control dimensionality at various stages are summarized in\n",
    "the diagram below:\n",
    "\n",
    ".. graphviz:: ../../_static/diagrams/ica.dot\n",
    "   :alt: Diagram of ICA procedure in MNE-Python\n",
    "   :align: left\n",
    "\n",
    "See the Notes section of the :class:`~mne.preprocessing.ICA` documentation\n",
    "for further details. Next we'll walk through an extended example that\n",
    "illustrates each of these steps in greater detail.\n",
    "\n",
    "Example: EOG and ECG artifact repair\n",
    "^^^^^^^^^^^^^^^^^^^^^^^^^^^^^^^^^^^^\n",
    "\n",
    "Visualizing the artifacts\n",
    "~~~~~~~~~~~~~~~~~~~~~~~~~\n",
    "\n",
    "Let's begin by visualizing the artifacts that we want to repair. In this\n",
    "dataset they are big enough to see easily in the raw data:\n",
    "\n"
   ]
  },
  {
   "cell_type": "code",
   "execution_count": null,
   "metadata": {},
   "outputs": [],
   "source": [
    "# pick some channels that clearly show heartbeats and blinks\n",
    "regexp = r'(MEG [12][45][123]1|EEG 00.)'\n",
    "artifact_picks = mne.pick_channels_regexp(raw.ch_names, regexp=regexp)\n",
    "raw.plot(order=artifact_picks, n_channels=len(artifact_picks))"
   ]
  },
  {
   "cell_type": "markdown",
   "metadata": {},
   "source": [
    "We can get a summary of how the ocular artifact manifests across each channel\n",
    "type using :func:`~mne.preprocessing.create_eog_epochs` like we did in the\n",
    "`tut-artifact-overview` tutorial:\n",
    "\n"
   ]
  },
  {
   "cell_type": "code",
   "execution_count": null,
   "metadata": {},
   "outputs": [],
   "source": [
    "eog_evoked = create_eog_epochs(raw).average()\n",
    "eog_evoked.apply_baseline(baseline=(None, -0.2))\n",
    "eog_evoked.plot_joint()"
   ]
  },
  {
   "cell_type": "markdown",
   "metadata": {},
   "source": [
    "Now we'll do the same for the heartbeat artifacts, using\n",
    ":func:`~mne.preprocessing.create_ecg_epochs`:\n",
    "\n"
   ]
  },
  {
   "cell_type": "code",
   "execution_count": null,
   "metadata": {},
   "outputs": [],
   "source": [
    "ecg_evoked = create_ecg_epochs(raw).average()\n",
    "ecg_evoked.apply_baseline(baseline=(None, -0.2))\n",
    "ecg_evoked.plot_joint()"
   ]
  },
  {
   "cell_type": "markdown",
   "metadata": {},
   "source": [
    "Filtering to remove slow drifts\n",
    "~~~~~~~~~~~~~~~~~~~~~~~~~~~~~~~\n",
    "\n",
    "Before we run the ICA, an important step is filtering the data to remove\n",
    "low-frequency drifts, which can negatively affect the quality of the ICA fit.\n",
    "The slow drifts are problematic because they reduce the independence of the\n",
    "assumed-to-be-independent sources (e.g., during a slow upward drift, the\n",
    "neural, heartbeat, blink, and other muscular sources will all tend to have\n",
    "higher values), making it harder for the algorithm to find an accurate\n",
    "solution. A high-pass filter with 1 Hz cutoff frequency is recommended.\n",
    "However, because filtering is a linear operation, the ICA solution found from\n",
    "the filtered signal can be applied to the unfiltered signal (see [2]_ for\n",
    "more information), so we'll keep a copy of the unfiltered\n",
    ":class:`~mne.io.Raw` object around so we can apply the ICA solution to it\n",
    "later.\n",
    "\n"
   ]
  },
  {
   "cell_type": "code",
   "execution_count": null,
   "metadata": {},
   "outputs": [],
   "source": [
    "filt_raw = raw.copy()\n",
    "filt_raw.load_data().filter(l_freq=1., h_freq=None)"
   ]
  },
  {
   "cell_type": "markdown",
   "metadata": {},
   "source": [
    "Fitting and plotting the ICA solution\n",
    "~~~~~~~~~~~~~~~~~~~~~~~~~~~~~~~~~~~~~\n",
    "\n",
    ".. sidebar:: Ignoring the time domain\n",
    "\n",
    "    The ICA algorithms implemented in MNE-Python find patterns across\n",
    "    channels, but ignore the time domain. This means you can compute ICA on\n",
    "    discontinuous :class:`~mne.Epochs` or :class:`~mne.Evoked` objects (not\n",
    "    just continuous :class:`~mne.io.Raw` objects), or only use every Nth\n",
    "    sample by passing the ``decim`` parameter to ``ICA.fit()``.\n",
    "\n",
    "Now we're ready to set up and fit the ICA. Since we know (from observing our\n",
    "raw data) that the EOG and ECG artifacts are fairly strong, we would expect\n",
    "those artifacts to be captured in the first few dimensions of the PCA\n",
    "decomposition that happens before the ICA. Therefore, we probably don't need\n",
    "a huge number of components to do a good job of isolating our artifacts\n",
    "(though it is usually preferable to include more components for a more\n",
    "accurate solution). As a first guess, we'll run ICA with ``n_components=15``\n",
    "(use only the first 15 PCA components to compute the ICA decomposition) — a\n",
    "very small number given that our data has over 300 channels, but with the\n",
    "advantage that it will run quickly and we will able to tell easily whether it\n",
    "worked or not (because we already know what the EOG / ECG artifacts should\n",
    "look like).\n",
    "\n",
    "ICA fitting is not deterministic (e.g., the components may get a sign\n",
    "flip on different runs, or may not always be returned in the same order), so\n",
    "we'll also specify a `random seed`_ so that we get identical results each\n",
    "time this tutorial is built by our web servers.\n",
    "\n"
   ]
  },
  {
   "cell_type": "code",
   "execution_count": null,
   "metadata": {},
   "outputs": [],
   "source": [
    "ica = ICA(n_components=15, random_state=97)\n",
    "ica.fit(filt_raw)"
   ]
  },
  {
   "cell_type": "markdown",
   "metadata": {},
   "source": [
    "Some optional parameters that we could have passed to the\n",
    ":meth:`~mne.preprocessing.ICA.fit` method include ``decim`` (to use only\n",
    "every Nth sample in computing the ICs, which can yield a considerable\n",
    "speed-up) and ``reject`` (for providing a rejection dictionary for maximum\n",
    "acceptable peak-to-peak amplitudes for each channel type, just like we used\n",
    "when creating epoched data in the `tut-overview` tutorial).\n",
    "\n",
    "Now we can examine the ICs to see what they captured.\n",
    ":meth:`~mne.preprocessing.ICA.plot_sources` will show the time series of the\n",
    "ICs. Note that in our call to :meth:`~mne.preprocessing.ICA.plot_sources` we\n",
    "can use the original, unfiltered :class:`~mne.io.Raw` object:\n",
    "\n"
   ]
  },
  {
   "cell_type": "code",
   "execution_count": null,
   "metadata": {},
   "outputs": [],
   "source": [
    "raw.load_data()\n",
    "ica.plot_sources(raw)"
   ]
  },
  {
   "cell_type": "markdown",
   "metadata": {},
   "source": [
    "Here we can pretty clearly see that the first component (``ICA000``) captures\n",
    "the EOG signal quite well, and the second component (``ICA001``) looks a lot\n",
    "like `a heartbeat <qrs_>`_ (for more info on visually identifying Independent\n",
    "Components, `this EEGLAB tutorial`_ is a good resource). We can also\n",
    "visualize the scalp field distribution of each component using\n",
    ":meth:`~mne.preprocessing.ICA.plot_components`. These are interpolated based\n",
    "on the values in the ICA unmixing matrix:\n",
    "\n"
   ]
  },
  {
   "cell_type": "code",
   "execution_count": null,
   "metadata": {},
   "outputs": [],
   "source": [
    "ica.plot_components()"
   ]
  },
  {
   "cell_type": "markdown",
   "metadata": {},
   "source": [
    "<div class=\"alert alert-info\"><h4>Note</h4><p>:meth:`~mne.preprocessing.ICA.plot_components` (which plots the scalp\n",
    "    field topographies for each component) has an optional ``inst`` parameter\n",
    "    that takes an instance of :class:`~mne.io.Raw` or :class:`~mne.Epochs`.\n",
    "    Passing ``inst`` makes the scalp topographies interactive: clicking one\n",
    "    will bring up a diagnostic :meth:`~mne.preprocessing.ICA.plot_properties`\n",
    "    window (see below) for that component.</p></div>\n",
    "\n",
    "In the plots above it's fairly obvious which ICs are capturing our EOG and\n",
    "ECG artifacts, but there are additional ways visualize them anyway just to\n",
    "be sure. First, we can plot an overlay of the original signal against the\n",
    "reconstructed signal with the artifactual ICs excluded, using\n",
    ":meth:`~mne.preprocessing.ICA.plot_overlay`:\n",
    "\n"
   ]
  },
  {
   "cell_type": "code",
   "execution_count": null,
   "metadata": {},
   "outputs": [],
   "source": [
    "# blinks\n",
    "ica.plot_overlay(raw, exclude=[0], picks='eeg')\n",
    "# heartbeats\n",
    "ica.plot_overlay(raw, exclude=[1], picks='mag')"
   ]
  },
  {
   "cell_type": "markdown",
   "metadata": {},
   "source": [
    "We can also plot some diagnostics of each IC using\n",
    ":meth:`~mne.preprocessing.ICA.plot_properties`:\n",
    "\n"
   ]
  },
  {
   "cell_type": "code",
   "execution_count": null,
   "metadata": {},
   "outputs": [],
   "source": [
    "ica.plot_properties(raw, picks=[0, 1])"
   ]
  },
  {
   "cell_type": "markdown",
   "metadata": {},
   "source": [
    "In the remaining sections, we'll look at different ways of choosing which ICs\n",
    "to exclude prior to reconstructing the sensor signals.\n",
    "\n",
    "\n",
    "Selecting ICA components manually\n",
    "~~~~~~~~~~~~~~~~~~~~~~~~~~~~~~~~~\n",
    "\n",
    "Once we're certain which components we want to exclude, we can specify that\n",
    "manually by setting the ``ica.exclude`` attribute. Similar to marking bad\n",
    "channels, merely setting ``ica.exclude`` doesn't do anything immediately (it\n",
    "just adds the excluded ICs to a list that will get used later when it's\n",
    "needed). Once the exclusions have been set, ICA methods like\n",
    ":meth:`~mne.preprocessing.ICA.plot_overlay` will exclude those component(s)\n",
    "even if no ``exclude`` parameter is passed, and the list of excluded\n",
    "components will be preserved when using :meth:`mne.preprocessing.ICA.save`\n",
    "and :func:`mne.preprocessing.read_ica`.\n",
    "\n"
   ]
  },
  {
   "cell_type": "code",
   "execution_count": null,
   "metadata": {},
   "outputs": [],
   "source": [
    "ica.exclude = [0, 1]  # indices chosen based on various plots above"
   ]
  },
  {
   "cell_type": "markdown",
   "metadata": {},
   "source": [
    "Now that the exclusions have been set, we can reconstruct the sensor signals\n",
    "with artifacts removed using the :meth:`~mne.preprocessing.ICA.apply` method\n",
    "(remember, we're applying the ICA solution from the *filtered* data to the\n",
    "original *unfiltered* signal). Plotting the original raw data alongside the\n",
    "reconstructed data shows that the heartbeat and blink artifacts are repaired.\n",
    "\n"
   ]
  },
  {
   "cell_type": "code",
   "execution_count": null,
   "metadata": {},
   "outputs": [],
   "source": [
    "# ica.apply() changes the Raw object in-place, so let's make a copy first:\n",
    "reconst_raw = raw.copy()\n",
    "ica.apply(reconst_raw)\n",
    "\n",
    "raw.plot(order=artifact_picks, n_channels=len(artifact_picks))\n",
    "reconst_raw.plot(order=artifact_picks, n_channels=len(artifact_picks))\n",
    "del reconst_raw"
   ]
  },
  {
   "cell_type": "markdown",
   "metadata": {},
   "source": [
    "Using an EOG channel to select ICA components\n",
    "~~~~~~~~~~~~~~~~~~~~~~~~~~~~~~~~~~~~~~~~~~~~~\n",
    "\n",
    "It may have seemed easy to review the plots and manually select which ICs to\n",
    "exclude, but when processing dozens or hundreds of subjects this can become\n",
    "a tedious, rate-limiting step in the analysis pipeline. One alternative is to\n",
    "use dedicated EOG or ECG sensors as a \"pattern\" to check the ICs against, and\n",
    "automatically mark for exclusion any ICs that match the EOG/ECG pattern. Here\n",
    "we'll use :meth:`~mne.preprocessing.ICA.find_bads_eog` to automatically find\n",
    "the ICs that best match the EOG signal, then use\n",
    ":meth:`~mne.preprocessing.ICA.plot_scores` along with our other plotting\n",
    "functions to see which ICs it picked. We'll start by resetting\n",
    "``ica.exclude`` back to an empty list:\n",
    "\n"
   ]
  },
  {
   "cell_type": "code",
   "execution_count": null,
   "metadata": {},
   "outputs": [],
   "source": [
    "ica.exclude = []\n",
    "# find which ICs match the EOG pattern\n",
    "eog_indices, eog_scores = ica.find_bads_eog(raw)\n",
    "ica.exclude = eog_indices\n",
    "\n",
    "# barplot of ICA component \"EOG match\" scores\n",
    "ica.plot_scores(eog_scores)\n",
    "\n",
    "# plot diagnostics\n",
    "ica.plot_properties(raw, picks=eog_indices)\n",
    "\n",
    "# plot ICs applied to raw data, with EOG matches highlighted\n",
    "ica.plot_sources(raw)\n",
    "\n",
    "# plot ICs applied to the averaged EOG epochs, with EOG matches highlighted\n",
    "ica.plot_sources(eog_evoked)"
   ]
  },
  {
   "cell_type": "markdown",
   "metadata": {},
   "source": [
    "Note that above we used :meth:`~mne.preprocessing.ICA.plot_sources` on both\n",
    "the original :class:`~mne.io.Raw` instance and also on an\n",
    ":class:`~mne.Evoked` instance of the extracted EOG artifacts. This can be\n",
    "another way to confirm that :meth:`~mne.preprocessing.ICA.find_bads_eog` has\n",
    "identified the correct components.\n",
    "\n",
    "\n",
    "Using a simulated channel to select ICA components\n",
    "~~~~~~~~~~~~~~~~~~~~~~~~~~~~~~~~~~~~~~~~~~~~~~~~~~\n",
    "\n",
    "If you don't have an EOG channel,\n",
    ":meth:`~mne.preprocessing.ICA.find_bads_eog` has a ``ch_name`` parameter that\n",
    "you can use as a proxy for EOG. You can use a single channel, or create a\n",
    "bipolar reference from frontal EEG sensors and use that as virtual EOG\n",
    "channel. This carries a risk however: you must hope that the frontal EEG\n",
    "channels only reflect EOG and not brain dynamics in the prefrontal cortex (or\n",
    "you must not care about those prefrontal signals).\n",
    "\n",
    "For ECG, it is easier: :meth:`~mne.preprocessing.ICA.find_bads_ecg` can use\n",
    "cross-channel averaging of magnetometer or gradiometer channels to construct\n",
    "a virtual ECG channel, so if you have MEG channels it is usually not\n",
    "necessary to pass a specific channel name.\n",
    ":meth:`~mne.preprocessing.ICA.find_bads_ecg` also has two options for its\n",
    "``method`` parameter: ``'ctps'`` (cross-trial phase statistics [3]_) and\n",
    "``'correlation'`` (Pearson correlation between data and ECG channel).\n",
    "\n"
   ]
  },
  {
   "cell_type": "code",
   "execution_count": null,
   "metadata": {},
   "outputs": [],
   "source": [
    "ica.exclude = []\n",
    "# find which ICs match the ECG pattern\n",
    "ecg_indices, ecg_scores = ica.find_bads_ecg(raw, method='correlation')\n",
    "ica.exclude = ecg_indices\n",
    "\n",
    "# barplot of ICA component \"ECG match\" scores\n",
    "ica.plot_scores(ecg_scores)\n",
    "\n",
    "# plot diagnostics\n",
    "ica.plot_properties(raw, picks=ecg_indices)\n",
    "\n",
    "# plot ICs applied to raw data, with ECG matches highlighted\n",
    "ica.plot_sources(raw)\n",
    "\n",
    "# plot ICs applied to the averaged ECG epochs, with ECG matches highlighted\n",
    "ica.plot_sources(ecg_evoked)"
   ]
  },
  {
   "cell_type": "markdown",
   "metadata": {},
   "source": [
    "The last of these plots is especially useful: it shows us that the heartbeat\n",
    "artifact is coming through on *two* ICs, and we've only caught one of them.\n",
    "In fact, if we look closely at the output of\n",
    ":meth:`~mne.preprocessing.ICA.plot_sources` (online, you can right-click →\n",
    "\"view image\" to zoom in), it looks like ``ICA014`` has a weak periodic\n",
    "component that is in-phase with ``ICA001``. It might be worthwhile to re-run\n",
    "the ICA with more components to see if that second heartbeat artifact\n",
    "resolves out a little better:\n",
    "\n"
   ]
  },
  {
   "cell_type": "code",
   "execution_count": null,
   "metadata": {},
   "outputs": [],
   "source": [
    "# refit the ICA with 30 components this time\n",
    "new_ica = ICA(n_components=30, random_state=97)\n",
    "new_ica.fit(filt_raw)\n",
    "\n",
    "# find which ICs match the ECG pattern\n",
    "ecg_indices, ecg_scores = new_ica.find_bads_ecg(raw, method='correlation')\n",
    "new_ica.exclude = ecg_indices\n",
    "\n",
    "# barplot of ICA component \"ECG match\" scores\n",
    "new_ica.plot_scores(ecg_scores)\n",
    "\n",
    "# plot diagnostics\n",
    "new_ica.plot_properties(raw, picks=ecg_indices)\n",
    "\n",
    "# plot ICs applied to raw data, with ECG matches highlighted\n",
    "new_ica.plot_sources(raw)\n",
    "\n",
    "# plot ICs applied to the averaged ECG epochs, with ECG matches highlighted\n",
    "new_ica.plot_sources(ecg_evoked)"
   ]
  },
  {
   "cell_type": "markdown",
   "metadata": {},
   "source": [
    "Much better! Now we've captured both ICs that are reflecting the heartbeat\n",
    "artifact (and as a result, we got two diagnostic plots: one for each IC that\n",
    "reflects the heartbeat). This demonstrates the value of checking the results\n",
    "of automated approaches like :meth:`~mne.preprocessing.ICA.find_bads_ecg`\n",
    "before accepting them.\n",
    "\n"
   ]
  },
  {
   "cell_type": "code",
   "execution_count": null,
   "metadata": {},
   "outputs": [],
   "source": [
    "# clean up memory before moving on\n",
    "del raw, filt_raw, ica, new_ica"
   ]
  },
  {
   "cell_type": "markdown",
   "metadata": {},
   "source": [
    "Selecting ICA components using template matching\n",
    "~~~~~~~~~~~~~~~~~~~~~~~~~~~~~~~~~~~~~~~~~~~~~~~~\n",
    "\n",
    "When dealing with multiple subjects, it is also possible to manually select\n",
    "an IC for exclusion on one subject, and then use that component as a\n",
    "*template* for selecting which ICs to exclude from other subjects' data,\n",
    "using :func:`mne.preprocessing.corrmap` [4]_. The idea behind\n",
    ":func:`~mne.preprocessing.corrmap` is that the artifact patterns are similar\n",
    "enough across subjects that corresponding ICs can be identified by\n",
    "correlating the ICs from each ICA solution with a common template, and\n",
    "picking the ICs with the highest correlation strength.\n",
    ":func:`~mne.preprocessing.corrmap` takes a list of ICA solutions, and a\n",
    "``template`` parameter that specifies which ICA object and which component\n",
    "within it to use as a template.\n",
    "\n",
    "Since our sample dataset only contains data from one subject, we'll use a\n",
    "different dataset with multiple subjects: the EEGBCI dataset [5]_ [6]_. The\n",
    "dataset has 109 subjects, we'll just download one run (a left/right hand\n",
    "movement task) from each of the first 4 subjects:\n",
    "\n"
   ]
  },
  {
   "cell_type": "code",
   "execution_count": null,
   "metadata": {},
   "outputs": [],
   "source": [
    "mapping = {\n",
    "    'Fc5.': 'FC5', 'Fc3.': 'FC3', 'Fc1.': 'FC1', 'Fcz.': 'FCz', 'Fc2.': 'FC2',\n",
    "    'Fc4.': 'FC4', 'Fc6.': 'FC6', 'C5..': 'C5', 'C3..': 'C3', 'C1..': 'C1',\n",
    "    'Cz..': 'Cz', 'C2..': 'C2', 'C4..': 'C4', 'C6..': 'C6', 'Cp5.': 'CP5',\n",
    "    'Cp3.': 'CP3', 'Cp1.': 'CP1', 'Cpz.': 'CPz', 'Cp2.': 'CP2', 'Cp4.': 'CP4',\n",
    "    'Cp6.': 'CP6', 'Fp1.': 'Fp1', 'Fpz.': 'Fpz', 'Fp2.': 'Fp2', 'Af7.': 'AF7',\n",
    "    'Af3.': 'AF3', 'Afz.': 'AFz', 'Af4.': 'AF4', 'Af8.': 'AF8', 'F7..': 'F7',\n",
    "    'F5..': 'F5', 'F3..': 'F3', 'F1..': 'F1', 'Fz..': 'Fz', 'F2..': 'F2',\n",
    "    'F4..': 'F4', 'F6..': 'F6', 'F8..': 'F8', 'Ft7.': 'FT7', 'Ft8.': 'FT8',\n",
    "    'T7..': 'T7', 'T8..': 'T8', 'T9..': 'T9', 'T10.': 'T10', 'Tp7.': 'TP7',\n",
    "    'Tp8.': 'TP8', 'P7..': 'P7', 'P5..': 'P5', 'P3..': 'P3', 'P1..': 'P1',\n",
    "    'Pz..': 'Pz', 'P2..': 'P2', 'P4..': 'P4', 'P6..': 'P6', 'P8..': 'P8',\n",
    "    'Po7.': 'PO7', 'Po3.': 'PO3', 'Poz.': 'POz', 'Po4.': 'PO4', 'Po8.': 'PO8',\n",
    "    'O1..': 'O1', 'Oz..': 'Oz', 'O2..': 'O2', 'Iz..': 'Iz'\n",
    "}\n",
    "\n",
    "raws = list()\n",
    "icas = list()\n",
    "\n",
    "for subj in range(4):\n",
    "    # EEGBCI subjects are 1-indexed; run 3 is a left/right hand movement task\n",
    "    fname = mne.datasets.eegbci.load_data(subj + 1, runs=[3])[0]\n",
    "    raw = mne.io.read_raw_edf(fname)\n",
    "    # remove trailing `.` from channel names so we can set montage\n",
    "    raw.rename_channels(mapping)\n",
    "    raw.set_montage('standard_1005')\n",
    "    # fit ICA\n",
    "    ica = ICA(n_components=30, random_state=97)\n",
    "    ica.fit(raw)\n",
    "    raws.append(raw)\n",
    "    icas.append(ica)"
   ]
  },
  {
   "cell_type": "markdown",
   "metadata": {},
   "source": [
    "Now let's run :func:`~mne.preprocessing.corrmap`:\n",
    "\n"
   ]
  },
  {
   "cell_type": "code",
   "execution_count": null,
   "metadata": {},
   "outputs": [],
   "source": [
    "# use the first subject as template; use Fpz as proxy for EOG\n",
    "raw = raws[0]\n",
    "ica = icas[0]\n",
    "eog_inds, eog_scores = ica.find_bads_eog(raw, ch_name='Fpz')\n",
    "corrmap(icas, template=(0, eog_inds[0]))"
   ]
  },
  {
   "cell_type": "markdown",
   "metadata": {},
   "source": [
    "The first figure shows the template map, while the second figure shows all\n",
    "the maps that were considered a \"match\" for the template (including the\n",
    "template itself). There were only three matches from the four subjects;\n",
    "notice the output message ``No maps selected for subject(s) 1, consider a\n",
    "more liberal threshold``.  By default the threshold is set automatically by\n",
    "trying several values; here it may have chosen a threshold that is too high.\n",
    "Let's take a look at the ICA sources for each subject:\n",
    "\n"
   ]
  },
  {
   "cell_type": "code",
   "execution_count": null,
   "metadata": {},
   "outputs": [],
   "source": [
    "for index, (ica, raw) in enumerate(zip(icas, raws)):\n",
    "    fig = ica.plot_sources(raw)\n",
    "    fig.suptitle('Subject {}'.format(index))"
   ]
  },
  {
   "cell_type": "markdown",
   "metadata": {},
   "source": [
    "Notice that subject 1 *does* seem to have an IC that looks like it reflects\n",
    "blink artifacts (component ``ICA000``). Notice also that subject 3 appears to\n",
    "have *two* components that are reflecting ocular artifacts (``ICA000`` and\n",
    "``ICA002``), but only one was caught by :func:`~mne.preprocessing.corrmap`.\n",
    "Let's try setting the threshold manually:\n",
    "\n"
   ]
  },
  {
   "cell_type": "code",
   "execution_count": null,
   "metadata": {},
   "outputs": [],
   "source": [
    "corrmap(icas, template=(0, eog_inds[0]), threshold=0.9)"
   ]
  },
  {
   "cell_type": "markdown",
   "metadata": {},
   "source": [
    "Now we get the message ``At least 1 IC detected for each subject`` (which is\n",
    "good). At this point we'll re-run :func:`~mne.preprocessing.corrmap` with\n",
    "parameters ``label=blink, show=False`` to *label* the ICs from each subject\n",
    "that capture the blink artifacts (without plotting them again).\n",
    "\n"
   ]
  },
  {
   "cell_type": "code",
   "execution_count": null,
   "metadata": {},
   "outputs": [],
   "source": [
    "corrmap(icas, template=(0, eog_inds[0]), threshold=0.9, label='blink',\n",
    "        plot=False)\n",
    "print([ica.labels_ for ica in icas])"
   ]
  },
  {
   "cell_type": "markdown",
   "metadata": {},
   "source": [
    "Notice that the first subject has 3 different labels for the IC at index 0:\n",
    "\"eog/0/Fpz\", \"eog\", and \"blink\". The first two were added by\n",
    ":meth:`~mne.preprocessing.ICA.find_bads_eog`; the \"blink\" label was added by\n",
    "the last call to :func:`~mne.preprocessing.corrmap`. Notice also that each\n",
    "subject has at least one IC index labelled \"blink\", and subject 3 has two\n",
    "components (0 and 2) labelled \"blink\" (consistent with the plot of IC sources\n",
    "above). The ``labels_`` attribute of :class:`~mne.preprocessing.ICA` objects\n",
    "can also be manually edited to annotate the ICs with custom labels. They also\n",
    "come in handy when plotting:\n",
    "\n"
   ]
  },
  {
   "cell_type": "code",
   "execution_count": null,
   "metadata": {},
   "outputs": [],
   "source": [
    "icas[3].plot_components(picks=icas[3].labels_['blink'])\n",
    "icas[3].exclude = icas[3].labels_['blink']\n",
    "icas[3].plot_sources(raws[3])"
   ]
  },
  {
   "cell_type": "markdown",
   "metadata": {},
   "source": [
    "As a final note, it is possible to extract ICs numerically using the\n",
    ":meth:`~mne.preprocessing.ICA.get_components` method of\n",
    ":class:`~mne.preprocessing.ICA` objects. This will return a :class:`NumPy\n",
    "array <numpy.ndarray>` that can be passed to\n",
    ":func:`~mne.preprocessing.corrmap` instead of the :class:`tuple` of\n",
    "``(subject_index, component_index)`` we passed before, and will yield the\n",
    "same result:\n",
    "\n"
   ]
  },
  {
   "cell_type": "code",
   "execution_count": null,
   "metadata": {},
   "outputs": [],
   "source": [
    "template_eog_component = icas[0].get_components()[:, eog_inds[0]]\n",
    "corrmap(icas, template=template_eog_component, threshold=0.9)\n",
    "print(template_eog_component)"
   ]
  },
  {
   "cell_type": "markdown",
   "metadata": {},
   "source": [
    "An advantage of using this numerical representation of an IC to capture a\n",
    "particular artifact pattern is that it can be saved and used as a template\n",
    "for future template-matching tasks using :func:`~mne.preprocessing.corrmap`\n",
    "without having to load or recompute the ICA solution that yielded the\n",
    "template originally. Put another way, when the template is a NumPy array, the\n",
    ":class:`~mne.preprocessing.ICA` object containing the template does not need\n",
    "to be in the list of ICAs provided to :func:`~mne.preprocessing.corrmap`.\n",
    "\n",
    "\n",
    "References\n",
    "^^^^^^^^^^\n",
    "\n",
    ".. [1] Ablin P, Cardoso J, Gramfort A (2018). Faster Independent Component\n",
    "       Analysis by Preconditioning With Hessian Approximations. *IEEE\n",
    "       Transactions on Signal Processing* 66:4040–4049.\n",
    "       https://doi.org/10.1109/TSP.2018.2844203\n",
    "\n",
    ".. [2] Winkler I, Debener S, Müller K-R, Tangermann M (2015). On the\n",
    "       influence of high-pass filtering on ICA-based artifact reduction in\n",
    "       EEG-ERP. Proceedings of EMBC-2015, 4101–4105.\n",
    "       https://doi.org/10.1109/EMBC.2015.7319296\n",
    "\n",
    ".. [3] Dammers J, Schiek M, Boers F, Silex C, Zvyagintsev M, Pietrzyk U,\n",
    "       Mathiak K (2008). Integration of amplitude and phase statistics for\n",
    "       complete artifact removal in independent components of neuromagnetic\n",
    "       recordings. *IEEE Transactions on Biomedical Engineering*\n",
    "       55(10):2353–2362. https://doi.org/10.1109/TBME.2008.926677\n",
    "\n",
    ".. [4] Viola FC, Thorne J, Edmonds B, Schneider T, Eichele T, Debener S\n",
    "       (2009). Semi-automatic identification of independent components\n",
    "       representing EEG artifact. *Clinical Neurophysiology* 120(5):868–877.\n",
    "       https://doi.org/10.1016/j.clinph.2009.01.015\n",
    "\n",
    ".. [5] Schalk G, McFarland DJ, Hinterberger T, Birbaumer N, Wolpaw JR (2004).\n",
    "       BCI2000: A General-Purpose Brain-Computer Interface (BCI) System.\n",
    "       *IEEE Transactions on Biomedical Engineering* 51(6):1034-1043.\n",
    "       https://doi.org/10.1109/TBME.2004.827072\n",
    "\n",
    ".. [6] Goldberger AL, Amaral LAN, Glass L, Hausdorff JM, Ivanov PCh, Mark RG,\n",
    "       Mietus JE, Moody GB, Peng C-K, Stanley HE (2000). PhysioBank,\n",
    "       PhysioToolkit, and PhysioNet: Components of a New Research Resource\n",
    "       for Complex Physiologic Signals. *Circulation* 101(23):e215-e220.\n",
    "       https://doi.org/10.1161/01.CIR.101.23.e215\n",
    "\n",
    "\n",
    ".. LINKS\n",
    "\n",
    "   https://en.wikipedia.org/wiki/Signal_separation\n",
    "   https://en.wikipedia.org/wiki/Independence_(probability_theory)\n",
    "\n"
   ]
  }
 ],
 "metadata": {
  "kernelspec": {
   "display_name": "Python 3",
   "language": "python",
   "name": "python3"
  },
  "language_info": {
   "codemirror_mode": {
    "name": "ipython",
    "version": 3
   },
   "file_extension": ".py",
   "mimetype": "text/x-python",
   "name": "python",
   "nbconvert_exporter": "python",
   "pygments_lexer": "ipython3",
   "version": "3.7.5"
  }
 },
 "nbformat": 4,
 "nbformat_minor": 1
}
