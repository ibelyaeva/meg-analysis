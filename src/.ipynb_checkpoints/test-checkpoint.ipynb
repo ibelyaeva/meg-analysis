{
 "cells": [
  {
   "cell_type": "code",
   "execution_count": 9,
   "metadata": {},
   "outputs": [
    {
     "name": "stdout",
     "output_type": "stream",
     "text": [
      "Opening raw data file /work/data/meg/M87123871/M87123871_multisensory_session2_tsss_mc.fif...\n",
      "    Range : 1000 ... 1049999 =      1.000 ...  1049.999 secs\n",
      "Ready.\n",
      "Current compensation grade : 0\n",
      "<Info | 23 non-empty values\n",
      " acq_pars: ACQch001 110113 ACQch002 110112 ACQch003 110111 ACQch004 110122 ...\n",
      " bads: []\n",
      " ch_names: MEG0113, MEG0112, MEG0111, MEG0122, MEG0123, MEG0121, MEG0132, ...\n",
      " chs: 204 GRAD, 102 MAG, 19 STIM, 1 EOG, 1 ECG, 8 MISC, 9 CHPI\n",
      " custom_ref_applied: False\n",
      " description: Vectorview system at MRN\n",
      " dev_head_t: MEG device -> head transform\n",
      " dig: 79 items (3 Cardinal, 4 HPI, 72 Extra)\n",
      " events: 1 item (list)\n",
      " experimenter: MEG (meg)\n",
      " file_id: 4 items (dict)\n",
      " highpass: 0.1 Hz\n",
      " hpi_meas: 1 item (list)\n",
      " hpi_results: 1 item (list)\n",
      " hpi_subsystem: 2 items (dict)\n",
      " line_freq: 60.0\n",
      " lowpass: 330.0 Hz\n",
      " meas_date: 2017-11-01 14:15:17 UTC\n",
      " meas_id: 4 items (dict)\n",
      " nchan: 344\n",
      " proc_history: 1 item (list)\n",
      " proj_id: 1 item (ndarray)\n",
      " proj_name: jstephen_devcog\n",
      " projs: []\n",
      " sfreq: 1000.0 Hz\n",
      " subject_info: 6 items (dict)\n",
      ">\n"
     ]
    },
    {
     "name": "stderr",
     "output_type": "stream",
     "text": [
      "<ipython-input-9-a56d33b28782>:15: RuntimeWarning: This filename (/work/data/meg/M87123871/M87123871_multisensory_session2_tsss_mc.fif) does not conform to MNE naming conventions. All raw files should end with raw.fif, raw_sss.fif, raw_tsss.fif, raw.fif.gz, raw_sss.fif.gz, raw_tsss.fif.gz or _meg.fif\n",
      "  raw = mne.io.read_raw_fif(raw_file)\n"
     ]
    }
   ],
   "source": [
    "import os\n",
    "import numpy as np\n",
    "import mne\n",
    "\n",
    "from mne.preprocessing import (ICA, create_eog_epochs, create_ecg_epochs,\n",
    "                               corrmap)\n",
    "\n",
    "\n",
    "folder = '/work/data/meg/M87123871'\n",
    "raw_file = os.path.join(folder, 'M87123871_multisensory_session2_tsss_mc.fif')\n",
    "#raw_file = os.path.join(folder, 'M87123871_multisensory_session2_tsss_mc.fif')\n",
    "\n",
    "event_file = os.path.join(folder, 'M87123871_multisensory_session2.eve')\n",
    "\n",
    "raw = mne.io.read_raw_fif(raw_file)\n",
    "events = mne.read_events(event_file)\n",
    "\n",
    "print(raw.info)"
   ]
  },
  {
   "cell_type": "code",
   "execution_count": 2,
   "metadata": {},
   "outputs": [
    {
     "data": {
      "text/plain": [
       "(300, 3)"
      ]
     },
     "execution_count": 2,
     "metadata": {},
     "output_type": "execute_result"
    }
   ],
   "source": [
    "events.shape"
   ]
  },
  {
   "cell_type": "code",
   "execution_count": 6,
   "metadata": {},
   "outputs": [
    {
     "name": "stdout",
     "output_type": "stream",
     "text": [
      "606 events found\n",
      "Event IDs: [  2   4   6 256 258 260 262]\n"
     ]
    },
    {
     "data": {
      "text/plain": [
       "array([[  53787,       0,     256],\n",
       "       [  55294,       0,       4],\n",
       "       [  56071,       0,     256],\n",
       "       ...,\n",
       "       [1043928,       6,     262],\n",
       "       [1046654,       0,       2],\n",
       "       [1047236,       2,     258]])"
      ]
     },
     "execution_count": 6,
     "metadata": {},
     "output_type": "execute_result"
    }
   ],
   "source": [
    "mne.find_events(raw)"
   ]
  },
  {
   "cell_type": "code",
   "execution_count": 11,
   "metadata": {},
   "outputs": [
    {
     "name": "stdout",
     "output_type": "stream",
     "text": [
      "EOG channel index for this subject is: [322]\n",
      "Filtering the data to remove DC offset to help distinguish blinks from saccades\n",
      "Setting up band-pass filter from 1 - 10 Hz\n",
      "\n",
      "FIR filter parameters\n",
      "---------------------\n",
      "Designing a two-pass forward and reverse, zero-phase, non-causal bandpass filter:\n",
      "- Windowed frequency-domain design (firwin2) method\n",
      "- Hann window\n",
      "- Lower passband edge: 1.00\n",
      "- Lower transition bandwidth: 0.50 Hz (-12 dB cutoff frequency: 0.75 Hz)\n",
      "- Upper passband edge: 10.00 Hz\n",
      "- Upper transition bandwidth: 0.50 Hz (-12 dB cutoff frequency: 10.25 Hz)\n",
      "- Filter length: 16384 samples (16.384 sec)\n",
      "\n",
      "Now detecting blinks and generating corresponding events\n",
      "Found 368 significant peaks\n",
      "Number of EOG events detected : 368\n",
      "368 matching events found\n",
      "No baseline correction applied\n",
      "Not setting metadata\n",
      "Loading data for 368 events and 1001 original time points ...\n",
      "0 bad epochs dropped\n",
      "Applying baseline correction (mode: mean)\n"
     ]
    },
    {
     "data": {
      "text/plain": [
       "<Figure size 800x420 with 7 Axes>"
      ]
     },
     "metadata": {},
     "output_type": "display_data"
    },
    {
     "data": {
      "text/plain": [
       "<Figure size 800x420 with 7 Axes>"
      ]
     },
     "metadata": {},
     "output_type": "display_data"
    },
    {
     "data": {
      "text/plain": [
       "[<Figure size 800x420 with 7 Axes>, <Figure size 800x420 with 7 Axes>]"
      ]
     },
     "execution_count": 11,
     "metadata": {},
     "output_type": "execute_result"
    }
   ],
   "source": [
    "eog_evoked = create_eog_epochs(raw).average()\n",
    "eog_evoked.apply_baseline(baseline=(None, -0.2))\n",
    "eog_evoked.plot_joint()"
   ]
  },
  {
   "cell_type": "code",
   "execution_count": 12,
   "metadata": {},
   "outputs": [
    {
     "ename": "NameError",
     "evalue": "name 'plt' is not defined",
     "output_type": "error",
     "traceback": [
      "\u001b[0;31m---------------------------------------------------------------------------\u001b[0m",
      "\u001b[0;31mNameError\u001b[0m                                 Traceback (most recent call last)",
      "\u001b[0;32m<ipython-input-12-1eb00ff78cf2>\u001b[0m in \u001b[0;36m<module>\u001b[0;34m\u001b[0m\n\u001b[0;32m----> 1\u001b[0;31m \u001b[0mplt\u001b[0m\u001b[0;34m.\u001b[0m\u001b[0mshow\u001b[0m\u001b[0;34m(\u001b[0m\u001b[0;34m)\u001b[0m\u001b[0;34m\u001b[0m\u001b[0;34m\u001b[0m\u001b[0m\n\u001b[0m",
      "\u001b[0;31mNameError\u001b[0m: name 'plt' is not defined"
     ]
    }
   ],
   "source": [
    "plt.show()"
   ]
  },
  {
   "cell_type": "code",
   "execution_count": null,
   "metadata": {},
   "outputs": [],
   "source": []
  }
 ],
 "metadata": {
  "kernelspec": {
   "display_name": "Python 3",
   "language": "python",
   "name": "python3"
  },
  "language_info": {
   "codemirror_mode": {
    "name": "ipython",
    "version": 3
   },
   "file_extension": ".py",
   "mimetype": "text/x-python",
   "name": "python",
   "nbconvert_exporter": "python",
   "pygments_lexer": "ipython3",
   "version": "3.7.5"
  }
 },
 "nbformat": 4,
 "nbformat_minor": 2
}
